{
 "cells": [
  {
   "cell_type": "code",
   "execution_count": 3,
   "metadata": {},
   "outputs": [],
   "source": [
    "from qiskit import *\n",
    "%matplotlib inline\n",
    "from qiskit.tools.visualization import plot_histogram"
   ]
  },
  {
   "cell_type": "markdown",
   "metadata": {},
   "source": [
    "The bernstin-vazirani algorithm will search all and find in 1 try. \n",
    "For example, if you had a number represented as 6 classical-bits, it would take 6 tries \n",
    "to find that number [i am gussing binary search] In general, if you have n classical bits, it takes \n",
    "n tries to search and find that number. With q-bits, it takes 1 try no matter how many q-bits!"
   ]
  },
  {
   "cell_type": "markdown",
   "metadata": {},
   "source": [
    "my guess at binary search is wrong. a computer would do 6 AND operations to check each of the 6 bits. or n AND ops on each of the n bits.  If the bits match, then AND is true"
   ]
  },
  {
   "cell_type": "code",
   "execution_count": 1,
   "metadata": {},
   "outputs": [],
   "source": [
    "secretnumber = '101001'"
   ]
  },
  {
   "cell_type": "code",
   "execution_count": 4,
   "metadata": {},
   "outputs": [
    {
     "data": {
      "text/plain": [
       "<qiskit.circuit.instructionset.InstructionSet at 0x13d336a90>"
      ]
     },
     "execution_count": 4,
     "metadata": {},
     "output_type": "execute_result"
    }
   ],
   "source": [
    "circuit = QuantumCircuit(6+1,6)    #6 qbits +1,  and 6 classical. 6 is the number of bits in the secretnumber\n",
    "circuit.h([0,1,2,3,4,5])   #use a Hadamard on first six bits  to entangle them\n",
    "circuit.x(6)\n",
    "circuit.h(6)\n",
    "\n",
    "circuit.barrier() #just adds a vertical line seperator in teh drawing\n",
    "#build the \"box\" that contains the secretnumber. For every \"1\" in secret, put an X gate\n",
    "circuit.cx(5,6)\n",
    "circuit.cx(3,6)\n",
    "circuit.cx(0,6)\n",
    "\n",
    "circuit.barrier()\n",
    "\n",
    "circuit.h([0,1,2,3,4,5]) \n",
    "circuit.barrier()\n",
    "circuit.measure([0,1,2,3,4,5],[0,1,2,3,4,5])  #measure q 0 thru 5 and put into c 0-5"
   ]
  },
  {
   "cell_type": "code",
   "execution_count": 5,
   "metadata": {},
   "outputs": [
    {
     "data": {
      "image/png": "[encoded data removed]",
      "text/plain": [
       "<Figure size 1081.19x505.68 with 1 Axes>"
      ]
     },
     "execution_count": 5,
     "metadata": {},
     "output_type": "execute_result"
    }
   ],
   "source": [
    "#run this after every few lines above to check on progress\n",
    "circuit.draw(output='mpl')"
   ]
  },
  {
   "cell_type": "code",
   "execution_count": null,
   "metadata": {},
   "outputs": [],
   "source": [
    "#so now can read off  101001 by reading a \"1\" every time  a cnot appears \n",
    "#left to right. e.g cnot appears for q5, so q5 is 1.  no cnot for q4, so it's 0."
   ]
  },
  {
   "cell_type": "code",
   "execution_count": null,
   "metadata": {},
   "outputs": [],
   "source": [
    "#now time to simulate the circuit and make sure it works"
   ]
  },
  {
   "cell_type": "code",
   "execution_count": 7,
   "metadata": {},
   "outputs": [
    {
     "name": "stdout",
     "output_type": "stream",
     "text": [
      "{'101001': 1}\n"
     ]
    }
   ],
   "source": [
    "simulator = Aer.get_backend('qasm_simulator')\n",
    "result = execute(circuit, backend = simulator, shots = 1).result()   #shots is 1 becasue it should only take 1 guess\n",
    "counts = result.get_counts()\n",
    "#plot_histogram(counts)\n",
    "print(counts)"
   ]
  },
  {
   "cell_type": "code",
   "execution_count": null,
   "metadata": {},
   "outputs": [],
   "source": [
    "#Now generalize to make it work on any n bit number"
   ]
  },
  {
   "cell_type": "code",
   "execution_count": 28,
   "metadata": {},
   "outputs": [],
   "source": [
    "secretnumber2='101'"
   ]
  },
  {
   "cell_type": "code",
   "execution_count": 29,
   "metadata": {},
   "outputs": [
    {
     "data": {
      "text/plain": [
       "<qiskit.circuit.instructionset.InstructionSet at 0x13d7110d0>"
      ]
     },
     "execution_count": 29,
     "metadata": {},
     "output_type": "execute_result"
    }
   ],
   "source": [
    "circuit2 = QuantumCircuit(len(secretnumber2)+1,len(secretnumber2))  \n",
    "circuit2.h(range(len(secretnumber2)))   #python thing to auto get the number length\n",
    "circuit2.x(len(secretnumber2))\n",
    "circuit2.h(len(secretnumber2))\n",
    "\n",
    "circuit2.barrier()\n",
    "\n",
    "#build the \"box\" that contains the secretnumber. For every \"1\" in secret, put an X gate\n",
    "\n",
    "for ii, yesno in enumerate(reversed(secretnumber2)):\n",
    "    if yesno == '1':\n",
    "        circuit2.cx(ii,len(secretnumber2))\n",
    "\n",
    "circuit2.barrier()\n",
    "\n",
    "circuit2.h(range(len(secretnumber2)))\n",
    "circuit2.barrier()\n",
    "circuit2.measure(range(len(secretnumber2)),range(len(secretnumber2)))  #measure q 0 thru 5 and put into c 0-5"
   ]
  },
  {
   "cell_type": "code",
   "execution_count": 30,
   "metadata": {},
   "outputs": [
    {
     "name": "stdout",
     "output_type": "stream",
     "text": [
      "{'101': 1}\n"
     ]
    }
   ],
   "source": [
    "simulator2 = Aer.get_backend('qasm_simulator')\n",
    "result = execute(circuit2, backend = simulator2, shots = 1).result()\n",
    "counts = result.get_counts()\n",
    "print(counts)"
   ]
  },
  {
   "cell_type": "markdown",
   "metadata": {},
   "source": [
    "EXTRA  Try to run on real hardware"
   ]
  },
  {
   "cell_type": "code",
   "execution_count": 31,
   "metadata": {},
   "outputs": [],
   "source": [
    "#EXTRA EXTRA EXTRA EXTRA EXTRA EXTRA EXTRA EXTRA EXTRA EXTRA EXTRA EXTRA EXTRA EXTRA EXTRA EXTRA\n",
    "\n"
   ]
  },
  {
   "cell_type": "code",
   "execution_count": 32,
   "metadata": {},
   "outputs": [],
   "source": [
    "#in other words, run on IBM cloud wiht my token. from Hello World grabbing this"
   ]
  },
  {
   "cell_type": "code",
   "execution_count": 33,
   "metadata": {},
   "outputs": [
    {
     "name": "stderr",
     "output_type": "stream",
     "text": [
      "Credentials are already in use. The existing account in the session will be replaced.\n"
     ]
    },
    {
     "data": {
      "text/plain": [
       "<AccountProvider for IBMQ(hub='ibm-q', group='open', project='main')>"
      ]
     },
     "execution_count": 33,
     "metadata": {},
     "output_type": "execute_result"
    }
   ],
   "source": [
    "IBMQ.load_account()"
   ]
  },
  {
   "cell_type": "code",
   "execution_count": 34,
   "metadata": {},
   "outputs": [],
   "source": [
    "provider = IBMQ.get_provider('ibm-q')                    ####  ???????\n",
    "qcomp = provider.get_backend('ibmq_16_melbourne')         ####  ???????\n",
    "job = execute(circuit2, backend=qcomp)                  ####  ???????"
   ]
  },
  {
   "cell_type": "code",
   "execution_count": 35,
   "metadata": {},
   "outputs": [
    {
     "name": "stdout",
     "output_type": "stream",
     "text": [
      "Job Status: job has successfully run\n",
      "{'101': 105, '100': 93, '000': 153, '110': 119, '011': 106, '010': 232, '001': 132, '111': 84}\n"
     ]
    }
   ],
   "source": [
    "from qiskit.tools.monitor import job_monitor\n",
    "job_monitor(job)\n",
    "result_again = job.result() \n",
    "count=(result_again.get_counts(circuit2)) \n",
    "print(count)   ###hhhmmm, not coming out right"
   ]
  },
  {
   "cell_type": "code",
   "execution_count": 36,
   "metadata": {},
   "outputs": [],
   "source": [
    "from qiskit.tools.monitor import backend_overview"
   ]
  },
  {
   "cell_type": "code",
   "execution_count": 15,
   "metadata": {
    "collapsed": true
   },
   "outputs": [
    {
     "name": "stderr",
     "output_type": "stream",
     "text": [
      "/Users/marklaney/miniconda3/envs/qiskit/lib/python3.7/site-packages/qiskit/providers/models/backendconfiguration.py:366: UserWarning: `dt` and `dtm` now have units of seconds(s) rather than nanoseconds(ns).\n",
      "  warnings.warn('`dt` and `dtm` now have units of seconds(s) rather '\n",
      "/Users/marklaney/miniconda3/envs/qiskit/lib/python3.7/site-packages/qiskit/providers/models/backendconfiguration.py:377: UserWarning: `rep_time` now has units of seconds(s) rather than microseconds(mu s).\n",
      "  warnings.warn('`rep_time` now has units of seconds(s) rather '\n"
     ]
    },
    {
     "name": "stdout",
     "output_type": "stream",
     "text": [
      "ibmq_armonk                  ibmq_essex                   ibmq_burlington\n",
      "-----------                  ----------                   ---------------\n",
      "Num. Qubits:  1              Num. Qubits:  5              Num. Qubits:  5\n",
      "Pending Jobs: 0              Pending Jobs: 9              Pending Jobs: 5\n",
      "Least busy:   True           Least busy:   False          Least busy:   False\n",
      "Operational:  True           Operational:  True           Operational:  True\n",
      "Avg. T1:      139.8          Avg. T1:      92.3           Avg. T1:      93.5\n",
      "Avg. T2:      149.2          Avg. T2:      124.4          Avg. T2:      75.2\n",
      "\n",
      "\n",
      "\n",
      "ibmq_london                  ibmq_ourense                 ibmq_vigo\n",
      "-----------                  ------------                 ---------\n",
      "Num. Qubits:  5              Num. Qubits:  5              Num. Qubits:  5\n",
      "Pending Jobs: 1              Pending Jobs: 20             Pending Jobs: 20\n",
      "Least busy:   False          Least busy:   False          Least busy:   False\n",
      "Operational:  True           Operational:  True           Operational:  True\n",
      "Avg. T1:      53.9           Avg. T1:      111.2          Avg. T1:      99.0\n",
      "Avg. T2:      70.7           Avg. T2:      68.6           Avg. T2:      74.5\n",
      "\n",
      "\n",
      "\n",
      "ibmq_16_melbourne            ibmqx2\n",
      "-----------------            ------\n",
      "Num. Qubits:  15             Num. Qubits:  5\n",
      "Pending Jobs: 39             Pending Jobs: 21\n",
      "Least busy:   False          Least busy:   False\n",
      "Operational:  True           Operational:  True\n",
      "Avg. T1:      55.5           Avg. T1:      51.0\n",
      "Avg. T2:      54.3           Avg. T2:      50.7\n",
      "\n",
      "\n",
      "\n"
     ]
    }
   ],
   "source": [
    "backend_overview()"
   ]
  },
  {
   "cell_type": "code",
   "execution_count": 37,
   "metadata": {},
   "outputs": [
    {
     "data": {
      "text/plain": [
       "8"
      ]
     },
     "execution_count": 37,
     "metadata": {},
     "output_type": "execute_result"
    }
   ],
   "source": [
    "len(count)"
   ]
  },
  {
   "cell_type": "code",
   "execution_count": 38,
   "metadata": {},
   "outputs": [
    {
     "name": "stdout",
     "output_type": "stream",
     "text": [
      "101\n"
     ]
    }
   ],
   "source": [
    "print(secretnumber2)"
   ]
  },
  {
   "cell_type": "code",
   "execution_count": 39,
   "metadata": {},
   "outputs": [
    {
     "data": {
      "text/plain": [
       "3"
      ]
     },
     "execution_count": 39,
     "metadata": {},
     "output_type": "execute_result"
    }
   ],
   "source": [
    "bits = len(secretnumber2)\n",
    "bits"
   ]
  },
  {
   "cell_type": "code",
   "execution_count": 40,
   "metadata": {},
   "outputs": [
    {
     "data": {
      "text/plain": [
       "8"
      ]
     },
     "execution_count": 40,
     "metadata": {},
     "output_type": "execute_result"
    }
   ],
   "source": [
    "2**bits"
   ]
  },
  {
   "cell_type": "code",
   "execution_count": null,
   "metadata": {},
   "outputs": [],
   "source": []
  }
 ],
 "metadata": {
  "kernelspec": {
   "display_name": "Python 3",
   "language": "python",
   "name": "python3"
  },
  "language_info": {
   "codemirror_mode": {
    "name": "ipython",
    "version": 3
   },
   "file_extension": ".py",
   "mimetype": "text/x-python",
   "name": "python",
   "nbconvert_exporter": "python",
   "pygments_lexer": "ipython3",
   "version": "3.7.6"
  }
 },
 "nbformat": 4,
 "nbformat_minor": 4
}
